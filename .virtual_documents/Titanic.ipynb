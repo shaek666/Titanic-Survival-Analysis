


# Importing all necessary libraries
import pandas as pd
import numpy as np
import seaborn as sns 
import matplotlib.pyplot as plt
from scipy import stats
from scipy.stats import chi2_contingency  # Importing Chi-Square test function

# Setting Seaborn’s darkgrid style for contrast
sns.set(style="darkgrid")

# Setting Matplotlib style for clean visuals
plt.style.use('seaborn-v0_8-dark')


# Loading the Titanic dataset into a pandas DataFrame called 'titanic'
titanic = pd.read_csv('titanic/train.csv')

# Displaying the first 10 rows of the dataset to inspect
titanic.head(10)





# Checking for missing values
missing_values = titanic.isnull().sum()
print(missing_values)


# Filling missing 'Age' values with the median
titanic['Age'] = titanic['Age'].fillna(np.median(titanic['Age'].dropna()))

# Dropping the 'Cabin' column due to too many missing values
titanic = titanic.drop(columns=['Cabin'])

# Filling missing 'Embarked' values with the mode (most common value)
titanic['Embarked'] = titanic['Embarked'].fillna(titanic['Embarked'].mode()[0])

# Dropping duplicate rows if any exist
titanic = titanic.drop_duplicates()


# Defining age group categories
def categorize_age(age):
    """Categorizes age into Child, Adult, or Senior."""
    if age < 18:
        return 'Child'
    elif 18 <= age < 60:
        return 'Adult'
    else:
        return 'Senior'

# Creating a new column 'AgeGroup' in the dataset
titanic['AgeGroup'] = titanic['Age'].apply(categorize_age)





# Displaying a summary of the cleaned dataset
titanic.describe().round(2)


# Setting figure size and dark blueish palette
plt.figure(figsize=(8, 6))
sns.set_palette("dark:#5A9_r")

# Creating a bar plot for gender distribution
sns.countplot(x='Sex', data=titanic, edgecolor='black', linewidth=2)

# Customizing title and labels with larger font sizes
plt.title('Gender Distribution of Passengers', fontsize=18, weight='bold')
plt.xlabel('Gender', fontsize=14)
plt.ylabel('Number of Passengers', fontsize=14)

# Showing the plot
plt.show()


# Setting figure size and violet color palette
plt.figure(figsize=(8, 6))
sns.set_palette("Purples_r")

# Creating a histogram for age distribution
sns.histplot(titanic['Age'], bins=20, kde=True, color='purple')

# Adding title and labels
plt.title('Age Distribution of Passengers', fontsize=18, weight='bold')
plt.xlabel('Age', fontsize=14)
plt.ylabel('Frequency', fontsize=14)

# Showing the plot
plt.show()


# Setting figure size and another dark palette
plt.figure(figsize=(8, 6))
sns.set_palette("dark:#6A5_r")

# Creating a bar plot to visualize survival rates by gender and class
sns.barplot(x='Sex', y='Survived', hue='Pclass', data=titanic, edgecolor='black', linewidth=2)

# Adding title and labels
plt.title('Survival Rate by Gender and Class', fontsize=18, weight='bold')
plt.xlabel('Gender', fontsize=14)
plt.ylabel('Survival Rate', fontsize=14)

# Showing the plot
plt.show()


# Dropping non-numeric columns before calculating the correlation matrix
titanic_numeric = titanic.drop(columns=['Name', 'Ticket', 'Embarked', 'Sex', 'AgeGroup'])

# Setting figure size and dark palette
plt.figure(figsize=(10, 6))
corr_matrix = titanic_numeric.corr()

# Creating a heatmap for the correlation matrix with dark violet-blue colors
sns.heatmap(corr_matrix, annot=True, cmap='Purples', linewidths=0.5, vmin=-1, vmax=1, cbar_kws={'shrink': 0.7})

# Adding title to the heatmap
plt.title('Correlation Matrix of Titanic Dataset', fontsize=18, weight='bold')

# Showing the heatmap
plt.show()





# Fare statistics
fare_mean = np.mean(titanic['Fare']).round(2)
fare_median = np.median(titanic['Fare']).round(2)
fare_mode = stats.mode(titanic['Fare'], nan_policy='omit').mode

# Age statistics
age_mean = np.mean(titanic['Age']).round(2)  
age_median = np.median(titanic['Age']).round(2)  
age_mode = stats.mode(titanic['Age'], nan_policy='omit').mode

# Printing the results
print(f"Fare - Mean: {fare_mean}, Median: {fare_median}, Mode: {fare_mode if fare_mode.size > 0 else 'N/A'}")
print(f"Age - Mean: {age_mean}, Median: {age_median}, Mode: {age_mode if age_mode.size > 0 else 'N/A'}")


# Separating fare data based on survival
fare_survived = titanic[titanic['Survived'] == 1]['Fare']
fare_not_survived = titanic[titanic['Survived'] == 0]['Fare']

# Performing a t-test for fare between survivors and non-survivors
t_stat_fare, p_val_fare = stats.ttest_ind(fare_survived, fare_not_survived, equal_var=False)

# Printing the t-test results in scientific notation
print(f"T-test for Fare: T-statistic: {t_stat_fare:.4e}, P-value: {p_val_fare:.4e}")


# Separating survival rates based on gender
survival_rate_male = titanic[titanic['Sex'] == 'male']['Survived']
survival_rate_female = titanic[titanic['Sex'] == 'female']['Survived']

# Performing a t-test for survival rates between males and females
t_stat_gender, p_val_gender = stats.ttest_ind(survival_rate_male, survival_rate_female, equal_var=False)

# Printing the t-test results in scientific notation
print(f"T-test for Survival Rate by Gender: T-statistic: {t_stat_gender:.4e}, P-value: {p_val_gender:.4e}")


# Creating a contingency table for gender vs survival
contingency_table_gender = pd.crosstab(titanic['Sex'], titanic['Survived'])
chi2_gender, p_gender, dof_gender, expected_gender = chi2_contingency(contingency_table_gender)

# Printing Chi-Square test results for gender vs survival
print(f"Chi-Square Test for Gender vs Survival: Chi2 Statistic: {chi2_gender:.4e}, P-value: {p_gender:.4e}")
